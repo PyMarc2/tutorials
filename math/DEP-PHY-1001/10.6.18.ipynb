{
 "cells": [
  {
   "cell_type": "code",
   "execution_count": 9,
   "metadata": {},
   "outputs": [],
   "source": [
    "import numpy as np\n",
    "import sympy\n",
    "sympy.init_printing(use_latex=True)"
   ]
  },
  {
   "cell_type": "code",
   "execution_count": 10,
   "metadata": {},
   "outputs": [
    {
     "data": {
      "text/plain": "⎡R_{12} + R_{13} + R_{1}      -R_{12}              -R_{13}        ⎤\n⎢                                                                 ⎥\n⎢        -R_{12}          R_{12} + R_{23}          -R_{23}        ⎥\n⎢                                                                 ⎥\n⎣        -R_{13}              -R_{23}      R_{13} + R_{23} + R_{3}⎦",
      "image/png": "[encoded data removed]",
      "text/latex": "$\\displaystyle \\left[\\begin{matrix}R_{12} + R_{13} + R_{1} & - R_{12} & - R_{13}\\\\- R_{12} & R_{12} + R_{23} & - R_{23}\\\\- R_{13} & - R_{23} & R_{13} + R_{23} + R_{3}\\end{matrix}\\right]$"
     },
     "execution_count": 10,
     "metadata": {},
     "output_type": "execute_result"
    }
   ],
   "source": [
    "R1 = sympy.Symbol('R_{1}')\n",
    "R12 = sympy.Symbol('R_{12}')\n",
    "R13 = sympy.symbols('R_{13}')\n",
    "R23 = sympy.symbols('R_{23}')\n",
    "R3 = sympy.symbols('R_{3}')\n",
    "E1 = sympy.symbols('E_{1}')\n",
    "E2 = sympy.symbols('E_{2}')\n",
    "E3 = sympy.symbols('E_{3}')\n",
    "\n",
    "\n",
    "C = sympy.Matrix([[E1],[E2],[E3]])\n",
    "\n",
    "R = sympy.Matrix([[R1+R12+R13, -R12, -R13], [-R12, R12+R23, -R23], [-R13, -R23, R13+R23+R3]])\n",
    "R"
   ]
  },
  {
   "cell_type": "code",
   "execution_count": 11,
   "metadata": {},
   "outputs": [
    {
     "data": {
      "text/plain": "R_{12}⋅R_{13}⋅R_{1} + R_{12}⋅R_{13}⋅R_{3} + R_{12}⋅R_{1}⋅R_{23} + R_{12}⋅R_{1}\n⋅R_{3} + R_{12}⋅R_{23}⋅R_{3} + R_{13}⋅R_{1}⋅R_{23} + R_{13}⋅R_{23}⋅R_{3} + R_{\n1}⋅R_{23}⋅R_{3}",
      "image/png": "[encoded data removed]",
      "text/latex": "$\\displaystyle R_{12} R_{13} R_{1} + R_{12} R_{13} R_{3} + R_{12} R_{1} R_{23} + R_{12} R_{1} R_{3} + R_{12} R_{23} R_{3} + R_{13} R_{1} R_{23} + R_{13} R_{23} R_{3} + R_{1} R_{23} R_{3}$"
     },
     "execution_count": 11,
     "metadata": {},
     "output_type": "execute_result"
    }
   ],
   "source": [
    "R_det = R.det()\n",
    "\n",
    "R_adj = R.adjugate()\n",
    "R_inv = R_adj/R_det\n",
    "I_sol = R_inv*C\n",
    "\n",
    "R_det\n"
   ]
  },
  {
   "cell_type": "code",
   "execution_count": 12,
   "metadata": {},
   "outputs": [
    {
     "data": {
      "text/plain": "⎡0.015⎤\n⎢     ⎥\n⎢0.02 ⎥\n⎢     ⎥\n⎣0.015⎦",
      "image/png": "[encoded data removed]",
      "text/latex": "$\\displaystyle \\left[\\begin{matrix}0.015\\\\0.02\\\\0.015\\end{matrix}\\right]$"
     },
     "execution_count": 12,
     "metadata": {},
     "output_type": "execute_result"
    }
   ],
   "source": [
    "I_sol2 = I_sol.evalf(subs={E1:10, E2:10, E3:10, R1:1000, \n",
    "                           R12:1000,\n",
    "                          R13:1000,\n",
    "                          R23:1000,\n",
    "                          R3:1000})\n",
    "I_sol2"
   ]
  },
  {
   "cell_type": "code",
   "execution_count": 12,
   "metadata": {},
   "outputs": [],
   "source": []
  }
 ],
 "metadata": {
  "kernelspec": {
   "display_name": "Python 3",
   "language": "python",
   "name": "python3"
  },
  "language_info": {
   "codemirror_mode": {
    "name": "ipython",
    "version": 3
   },
   "file_extension": ".py",
   "mimetype": "text/x-python",
   "name": "python",
   "nbconvert_exporter": "python",
   "pygments_lexer": "ipython3",
   "version": "3.7.8"
  }
 },
 "nbformat": 4,
 "nbformat_minor": 4
}